{
 "cells": [
  {
   "cell_type": "code",
   "execution_count": 8,
   "id": "20aa542b",
   "metadata": {},
   "outputs": [],
   "source": [
    "from selenium import webdriver as wb\n",
    "from selenium.webdriver.common.keys import Keys\n",
    "from selenium.webdriver.support import expected_conditions as ec\n",
    "from selenium.webdriver.common.by import By\n",
    "from selenium.webdriver.support.wait import WebDriverWait as wd\n",
    "import time"
   ]
  },
  {
   "cell_type": "code",
   "execution_count": 5,
   "id": "65d50abf",
   "metadata": {},
   "outputs": [],
   "source": [
    "driver = wb.Chrome('C:\\\\Users\\\\kamat\\\\Desktop\\\\python projrcts\\\\pythonProject\\\\chromedriver.exe')\n",
    "driver.get('https://www.instagram.com')"
   ]
  },
  {
   "cell_type": "code",
   "execution_count": 19,
   "id": "8f5d28c5",
   "metadata": {
    "scrolled": true
   },
   "outputs": [],
   "source": [
    "uname = wd(driver ,10).until(ec.element_to_be_clickable((By.XPATH, '//*[@id=\"loginForm\"]/div[1]/div[1]/div/label/input')))\n",
    "uname.send_keys('YOUR MAIL ID')\n",
    "\n",
    "pword = wd(driver, 10).until(ec.element_to_be_clickable((By.XPATH, '//*[@id=\"loginForm\"]/div[1]/div[2]/div/label/input')))\n",
    "pword.send_keys('YOUR PASSWORD')"
   ]
  },
  {
   "cell_type": "code",
   "execution_count": 20,
   "id": "7a0e59e4",
   "metadata": {},
   "outputs": [],
   "source": [
    "login = wd(driver, 10).until(ec.element_to_be_clickable((By.XPATH, '//*[@id=\"loginForm\"]/div[1]/div[3]/button')))\n",
    "login.click()"
   ]
  },
  {
   "cell_type": "code",
   "execution_count": 21,
   "id": "7da07d62",
   "metadata": {},
   "outputs": [],
   "source": [
    "button = wd(driver, 10).until(ec.element_to_be_clickable((By.XPATH, '//*[@id=\"react-root\"]/section/main/div/div/div/div')))\n",
    "button.click()"
   ]
  },
  {
   "cell_type": "code",
   "execution_count": 24,
   "id": "aac5bc23",
   "metadata": {},
   "outputs": [],
   "source": [
    "not_now = wd(driver, 10).until(ec.element_to_be_clickable((By.XPATH, '/html/body/div[4]/div/div/div/div[3]/button[2]')))\n",
    "not_now.click()"
   ]
  },
  {
   "cell_type": "code",
   "execution_count": null,
   "id": "d580748b",
   "metadata": {},
   "outputs": [],
   "source": []
  }
 ],
 "metadata": {
  "kernelspec": {
   "display_name": "Python 3",
   "language": "python",
   "name": "python3"
  },
  "language_info": {
   "codemirror_mode": {
    "name": "ipython",
    "version": 3
   },
   "file_extension": ".py",
   "mimetype": "text/x-python",
   "name": "python",
   "nbconvert_exporter": "python",
   "pygments_lexer": "ipython3",
   "version": "3.7.3"
  }
 },
 "nbformat": 4,
 "nbformat_minor": 5
}
