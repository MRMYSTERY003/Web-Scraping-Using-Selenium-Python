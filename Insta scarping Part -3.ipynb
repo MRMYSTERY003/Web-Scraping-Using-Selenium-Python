{
 "cells": [
  {
   "cell_type": "code",
   "execution_count": 1,
   "id": "20aa542b",
   "metadata": {},
   "outputs": [],
   "source": [
    "from selenium import webdriver as wb\n",
    "from selenium.webdriver.common.keys import Keys\n",
    "from selenium.webdriver.support import expected_conditions as ec\n",
    "from selenium.webdriver.common.by import By\n",
    "from selenium.webdriver.support.wait import WebDriverWait as wd\n",
    "import time"
   ]
  },
  {
   "cell_type": "code",
   "execution_count": 2,
   "id": "65d50abf",
   "metadata": {},
   "outputs": [],
   "source": [
    "driver = wb.Chrome('C:\\\\Users\\\\kamat\\\\Desktop\\\\python projrcts\\\\pythonProject\\\\chromedriver.exe')\n",
    "driver.get('https://www.instagram.com')"
   ]
  },
  {
   "cell_type": "code",
   "execution_count": 3,
   "id": "8f5d28c5",
   "metadata": {
    "scrolled": true
   },
   "outputs": [],
   "source": [
    "uname = wd(driver ,10).until(ec.element_to_be_clickable((By.XPATH, '//*[@id=\"loginForm\"]/div[1]/div[1]/div/label/input')))\n",
    "uname.send_keys('sriramanand23@gmail.com')\n",
    "\n",
    "pword = wd(driver, 10).until(ec.element_to_be_clickable((By.XPATH, '//*[@id=\"loginForm\"]/div[1]/div[2]/div/label/input')))\n",
    "pword.send_keys('STRANGER003')"
   ]
  },
  {
   "cell_type": "code",
   "execution_count": 4,
   "id": "7a0e59e4",
   "metadata": {},
   "outputs": [],
   "source": [
    "login = wd(driver, 10).until(ec.element_to_be_clickable((By.XPATH, '//*[@id=\"loginForm\"]/div[1]/div[3]/button')))\n",
    "login.click()"
   ]
  },
  {
   "cell_type": "code",
   "execution_count": 5,
   "id": "7da07d62",
   "metadata": {},
   "outputs": [],
   "source": [
    "button = wd(driver, 10).until(ec.element_to_be_clickable((By.XPATH, '//*[@id=\"react-root\"]/section/main/div/div/div/div')))\n",
    "button.click()"
   ]
  },
  {
   "cell_type": "code",
   "execution_count": 6,
   "id": "aac5bc23",
   "metadata": {},
   "outputs": [],
   "source": [
    "not_now = wd(driver, 10).until(ec.element_to_be_clickable((By.CSS_SELECTOR, 'button[class = \"aOOlW   HoLwm \"]')))\n",
    "not_now.click()"
   ]
  },
  {
   "cell_type": "code",
   "execution_count": 7,
   "id": "d580748b",
   "metadata": {},
   "outputs": [],
   "source": [
    "hashtag = 'Motivational quotes4u'\n",
    "search = wd(driver, 10).until(ec.element_to_be_clickable((By.CSS_SELECTOR, 'input[placeholder= \"Search\"]')))\n",
    "search.send_keys(hashtag)\n",
    "time.sleep(3)\n",
    "search.send_keys(Keys.ENTER)\n",
    "search.send_keys(Keys.ENTER)"
   ]
  },
  {
   "cell_type": "code",
   "execution_count": 8,
   "id": "92ec9ebc",
   "metadata": {},
   "outputs": [],
   "source": [
    "n = 8\n",
    "for i in range(n):\n",
    "    driver.execute_script('window.scrollTo(0, document.body.scrollHeight);')\n",
    "    time.sleep(5)\n",
    "\n"
   ]
  },
  {
   "cell_type": "code",
   "execution_count": 9,
   "id": "d2d454f8",
   "metadata": {},
   "outputs": [
    {
     "data": {
      "text/plain": [
       "['https://www.instagram.com/p/COoN9FDhhIw/',\n",
       " 'https://www.instagram.com/p/COkcT0nBZzU/',\n",
       " 'https://www.instagram.com/p/COftFFZh2BX/',\n",
       " 'https://www.instagram.com/p/COd36P4BkD_/',\n",
       " 'https://www.instagram.com/p/COab07fBHE4/',\n",
       " 'https://www.instagram.com/p/COYBRxnhBgv/',\n",
       " 'https://www.instagram.com/p/COTPluLBSUx/',\n",
       " 'https://www.instagram.com/p/COTNirwBwp0/',\n",
       " 'https://www.instagram.com/p/COQPjN7h8yY/',\n",
       " 'https://www.instagram.com/p/COQPehgB8He/',\n",
       " 'https://www.instagram.com/p/CON0FGlh1SU/',\n",
       " 'https://www.instagram.com/p/CONz8-bBWbE/',\n",
       " 'https://www.instagram.com/p/COLQ3kFBcTk/',\n",
       " 'https://www.instagram.com/p/COIvvLkBIdj/',\n",
       " 'https://www.instagram.com/p/COFiw97hKK-/',\n",
       " 'https://www.instagram.com/p/COFap8shHNx/',\n",
       " 'https://www.instagram.com/p/CN-sMcehn6B/',\n",
       " 'https://www.instagram.com/p/CN8At51BNf3/',\n",
       " 'https://www.instagram.com/p/CN5SShEh_ps/',\n",
       " 'https://www.instagram.com/p/CN4G-HmhnHn/',\n",
       " 'https://www.instagram.com/p/CNzNKCrBFsE/',\n",
       " 'https://www.instagram.com/p/CNzM7-Bhufc/',\n",
       " 'https://www.instagram.com/p/CNxCBQ6hddY/',\n",
       " 'https://www.instagram.com/p/CNub4Zfhshj/',\n",
       " 'https://www.instagram.com/p/CNpLzZsBRdv/',\n",
       " 'https://www.instagram.com/p/CNkiMl7BPMq/',\n",
       " 'https://www.instagram.com/p/CNkhyCqhyZg/',\n",
       " 'https://www.instagram.com/p/CNh9LU1Bcod/',\n",
       " 'https://www.instagram.com/p/CNeSDjGB0ez/',\n",
       " 'https://www.instagram.com/p/CNb2sPGBQ71/',\n",
       " 'https://www.instagram.com/p/CNZUOKMhI0S/',\n",
       " 'https://www.instagram.com/p/CNW2bfFh0Fz/',\n",
       " 'https://www.instagram.com/p/CNU9y0cBrvM/',\n",
       " 'https://www.instagram.com/p/CNRCY2dB0SQ/',\n",
       " 'https://www.instagram.com/p/CNRCEhdhbsH/',\n",
       " 'https://www.instagram.com/p/CNPrzv9hfq3/',\n",
       " 'https://www.instagram.com/p/CNOeUtHBIiJ/',\n",
       " 'https://www.instagram.com/p/CNJb1aIhVgv/',\n",
       " 'https://www.instagram.com/p/CNFuMXzhpJS/',\n",
       " 'https://www.instagram.com/p/CNFFjt2BhBq/',\n",
       " 'https://www.instagram.com/p/CNB2dvQB9o0/',\n",
       " 'https://www.instagram.com/p/CNAHndhB-Gu/']"
      ]
     },
     "execution_count": 9,
     "metadata": {},
     "output_type": "execute_result"
    }
   ],
   "source": [
    "links = driver.find_elements_by_tag_name('a')\n",
    "links = [i.get_attribute('href') for i in links]\n",
    "links = [i for i in links if i.startswith('https://www.instagram.com/p/')]\n",
    "links"
   ]
  },
  {
   "cell_type": "code",
   "execution_count": 10,
   "id": "d3ba2a41",
   "metadata": {},
   "outputs": [],
   "source": [
    "images = [] \n",
    "for j in links:\n",
    "    driver.get(j)\n",
    "    time.sleep(3)\n",
    "    img = driver.find_elements_by_tag_name('img')\n",
    "    img = [i.get_attribute('src') for i in img]\n",
    "    images.append(img[1])"
   ]
  },
  {
   "cell_type": "code",
   "execution_count": 11,
   "id": "9deb4945",
   "metadata": {},
   "outputs": [
    {
     "data": {
      "text/plain": [
       "['https://instagram.fmaa1-3.fna.fbcdn.net/v/t51.2885-15/e35/183133552_904942933695292_6632177797648765012_n.jpg?tp=1&_nc_ht=instagram.fmaa1-3.fna.fbcdn.net&_nc_cat=104&_nc_ohc=5jSSedbBYpEAX8BIQnV&edm=AABBvjUBAAAA&ccb=7-4&oh=f700ced912b495aa5b8de50dc357ccce&oe=60DE1D78&_nc_sid=83d603',\n",
       " 'https://instagram.fmaa1-3.fna.fbcdn.net/v/t51.2885-15/e35/183472367_172844541414475_373890198715055315_n.jpg?tp=1&_nc_ht=instagram.fmaa1-3.fna.fbcdn.net&_nc_cat=107&_nc_ohc=v5ItzacQE0kAX_xEd8p&edm=AABBvjUBAAAA&ccb=7-4&oh=959f5d98af13f7a26f5dec1e4263068e&oe=60DE4250&_nc_sid=83d603',\n",
       " 'https://instagram.fmaa1-4.fna.fbcdn.net/v/t51.2885-15/e35/182686730_758726094816420_7731505095035951863_n.jpg?tp=1&_nc_ht=instagram.fmaa1-4.fna.fbcdn.net&_nc_cat=100&_nc_ohc=PhrIi2TbV-sAX8g1efk&edm=AABBvjUBAAAA&ccb=7-4&oh=7569a5803d8698501e3ddba5dc00332d&oe=60DEB5B6&_nc_sid=83d603',\n",
       " 'https://instagram.fmaa1-2.fna.fbcdn.net/v/t51.2885-15/e35/182145273_757707201570555_7732692145780417548_n.jpg?tp=1&_nc_ht=instagram.fmaa1-2.fna.fbcdn.net&_nc_cat=103&_nc_ohc=yTm8jYVThE0AX9dbp4-&edm=AABBvjUBAAAA&ccb=7-4&oh=cdd37e5cd346f9bf1920e36651c35007&oe=60DDD107&_nc_sid=83d603',\n",
       " 'https://instagram.fmaa1-3.fna.fbcdn.net/v/t51.2885-15/e35/180719314_1787257984769728_7256307073029776119_n.jpg?tp=1&_nc_ht=instagram.fmaa1-3.fna.fbcdn.net&_nc_cat=104&_nc_ohc=Sz4U34QxIfsAX8i_rzh&edm=AABBvjUBAAAA&ccb=7-4&oh=66a0823446cb86c3adbb0affbdfbda19&oe=60DE5982&_nc_sid=83d603',\n",
       " 'https://instagram.fmaa1-1.fna.fbcdn.net/v/t51.2885-15/e35/178900665_835141784027422_4752765384802587219_n.jpg?tp=1&_nc_ht=instagram.fmaa1-1.fna.fbcdn.net&_nc_cat=110&_nc_ohc=J6VP9h4MXcAAX9LQbTq&edm=AABBvjUBAAAA&ccb=7-4&oh=ca12f2b16a98c859798a05f47c48ff4d&oe=60DEF2D7&_nc_sid=83d603',\n",
       " 'https://instagram.fmaa1-4.fna.fbcdn.net/v/t51.2885-15/e35/178946511_924046645049109_8987425149345133469_n.jpg?tp=1&_nc_ht=instagram.fmaa1-4.fna.fbcdn.net&_nc_cat=109&_nc_ohc=SiY1q_2iCX8AX8NP9dV&edm=AABBvjUBAAAA&ccb=7-4&oh=ab2fd8426b11217e0b26d8e789d5d843&oe=60DE23E5&_nc_sid=83d603',\n",
       " 'https://instagram.fmaa1-4.fna.fbcdn.net/v/t51.2885-15/e35/179789025_984984262240740_6939152869618123015_n.jpg?tp=1&_nc_ht=instagram.fmaa1-4.fna.fbcdn.net&_nc_cat=100&_nc_ohc=YN6zSPUMbUYAX-7dyHC&edm=AABBvjUBAAAA&ccb=7-4&oh=1bb01e21d44bdd20ab11ce7d9249d220&oe=60DD5851&_nc_sid=83d603',\n",
       " 'https://instagram.fmaa1-1.fna.fbcdn.net/v/t51.2885-15/e35/178919972_493626675010726_6797132855412335461_n.jpg?tp=1&_nc_ht=instagram.fmaa1-1.fna.fbcdn.net&_nc_cat=110&_nc_ohc=yICqwbP93WYAX9QpsVV&edm=AABBvjUBAAAA&ccb=7-4&oh=94375aaeb31349e8c00a0c31a274e962&oe=60DE0CB4&_nc_sid=83d603',\n",
       " 'https://instagram.fmaa1-3.fna.fbcdn.net/v/t51.2885-15/e35/180584210_484906712943697_2572508889311550730_n.jpg?tp=1&_nc_ht=instagram.fmaa1-3.fna.fbcdn.net&_nc_cat=101&_nc_ohc=UaWPY4JhXAAAX9ry2ba&edm=AABBvjUBAAAA&ccb=7-4&oh=6c55fcc9c650fa8a90f59b4790c24e23&oe=60DD9A16&_nc_sid=83d603',\n",
       " 'https://instagram.fmaa1-1.fna.fbcdn.net/v/t51.2885-15/e35/174023075_474695367116315_2468912144063682944_n.jpg?tp=1&_nc_ht=instagram.fmaa1-1.fna.fbcdn.net&_nc_cat=111&_nc_ohc=k4uYqfYXvnIAX_434dm&tn=npA9gXMlcYVWBfcP&edm=AABBvjUBAAAA&ccb=7-4&oh=12648390869a9b5354fb390e98dd6cf4&oe=60DD421C&_nc_sid=83d603',\n",
       " 'https://instagram.fmaa1-2.fna.fbcdn.net/v/t51.2885-15/e35/177649965_1142977766152119_4986110224284322107_n.jpg?tp=1&_nc_ht=instagram.fmaa1-2.fna.fbcdn.net&_nc_cat=103&_nc_ohc=AzPJxN3FliIAX8SdgsB&edm=AABBvjUBAAAA&ccb=7-4&oh=674ab36a12524a35006b4c24290e0c21&oe=60DD9EF3&_nc_sid=83d603',\n",
       " 'https://instagram.fmaa1-2.fna.fbcdn.net/v/t51.2885-15/e35/178362279_1956574071173864_1190215860078554841_n.jpg?tp=1&_nc_ht=instagram.fmaa1-2.fna.fbcdn.net&_nc_cat=108&_nc_ohc=sMbp-iAoAaYAX97iYRy&edm=AABBvjUBAAAA&ccb=7-4&oh=73b053d2d6bf2013222e12ab2f40bffc&oe=60DDEC79&_nc_sid=83d603',\n",
       " 'https://instagram.fmaa1-3.fna.fbcdn.net/v/t51.2885-15/e35/175659039_1416178798732901_7781957595744304287_n.jpg?tp=1&_nc_ht=instagram.fmaa1-3.fna.fbcdn.net&_nc_cat=105&_nc_ohc=Y9NfNjfaVswAX_EHPaJ&edm=AABBvjUBAAAA&ccb=7-4&oh=64e7526a8477c8e8ef6e67ecf2270518&oe=60DD1BE4&_nc_sid=83d603',\n",
       " 'https://instagram.fmaa1-3.fna.fbcdn.net/v/t51.2885-15/e35/176962799_798686804376269_7903861228692937054_n.jpg?tp=1&_nc_ht=instagram.fmaa1-3.fna.fbcdn.net&_nc_cat=105&_nc_ohc=kOwQgxjMO-oAX_u659A&edm=AABBvjUBAAAA&ccb=7-4&oh=fcd501771d52bb59008f7d90f7777afa&oe=60DD9105&_nc_sid=83d603',\n",
       " 'https://instagram.fmaa1-4.fna.fbcdn.net/v/t51.2885-15/e35/177977067_330703945114566_1905718401331424833_n.jpg?tp=1&_nc_ht=instagram.fmaa1-4.fna.fbcdn.net&_nc_cat=106&_nc_ohc=rMT-u7HM57cAX9ohsK0&edm=AABBvjUBAAAA&ccb=7-4&oh=f7e5aa5de259d4b522eac5777ab743b9&oe=60DE5DA0&_nc_sid=83d603',\n",
       " 'https://instagram.fmaa1-3.fna.fbcdn.net/v/t51.2885-15/e35/175903308_475281326861353_2591429890731671197_n.jpg?tp=1&_nc_ht=instagram.fmaa1-3.fna.fbcdn.net&_nc_cat=101&_nc_ohc=GlPOOw2gwqEAX9n1U0I&edm=AABBvjUBAAAA&ccb=7-4&oh=bf888b5d26f9fe72478773530543ac4b&oe=60DD7306&_nc_sid=83d603',\n",
       " 'https://instagram.fmaa1-1.fna.fbcdn.net/v/t51.2885-15/e35/175638826_849215042668582_2061692698940016665_n.jpg?tp=1&_nc_ht=instagram.fmaa1-1.fna.fbcdn.net&_nc_cat=110&_nc_ohc=hUJCt-yqAHUAX-Awcw0&edm=AABBvjUBAAAA&ccb=7-4&oh=9b6909f5169b723068b25c2f863d0b98&oe=60DE51C0&_nc_sid=83d603',\n",
       " 'https://instagram.fmaa1-2.fna.fbcdn.net/v/t51.2885-15/e35/175599467_1756254877879784_4016264043852424692_n.jpg?tp=1&_nc_ht=instagram.fmaa1-2.fna.fbcdn.net&_nc_cat=108&_nc_ohc=YhZIWFAHoacAX8t92wN&edm=AABBvjUBAAAA&ccb=7-4&oh=74effe934bc73e4e16c3e9886568a5a6&oe=60DD9F3A&_nc_sid=83d603',\n",
       " 'https://instagram.fmaa1-4.fna.fbcdn.net/v/t51.2885-15/e35/175816065_2955895537963524_4584151905578220974_n.jpg?tp=1&_nc_ht=instagram.fmaa1-4.fna.fbcdn.net&_nc_cat=100&_nc_ohc=wVd3o6VYkukAX8mTtPW&edm=AABBvjUBAAAA&ccb=7-4&oh=c2080d8d54229565b8e903e2735ecc74&oe=60DDEB9A&_nc_sid=83d603',\n",
       " 'https://instagram.fmaa1-3.fna.fbcdn.net/v/t51.2885-15/e35/175752777_1317809531934541_5498322189710736085_n.jpg?tp=1&_nc_ht=instagram.fmaa1-3.fna.fbcdn.net&_nc_cat=101&_nc_ohc=ZsqYmTiU4jwAX8QLgZ8&tn=npA9gXMlcYVWBfcP&edm=AABBvjUBAAAA&ccb=7-4&oh=21c184658aeda76e2403530bfbdd3fe7&oe=60DEA634&_nc_sid=83d603',\n",
       " 'https://instagram.fmaa1-4.fna.fbcdn.net/v/t51.2885-15/e35/175284326_280190846922606_1054488309343398331_n.jpg?tp=1&_nc_ht=instagram.fmaa1-4.fna.fbcdn.net&_nc_cat=106&_nc_ohc=Cg5oStZWtuwAX--ZUdD&edm=AABBvjUBAAAA&ccb=7-4&oh=537afe90ecf39e28eb51e1b7e29e9432&oe=60DD5C4A&_nc_sid=83d603',\n",
       " 'https://instagram.fmaa1-4.fna.fbcdn.net/v/t51.2885-15/e35/174073564_281036586899258_4143955793571226403_n.jpg?tp=1&_nc_ht=instagram.fmaa1-4.fna.fbcdn.net&_nc_cat=102&_nc_ohc=GiQulRJi9tcAX-DFStO&edm=AABBvjUBAAAA&ccb=7-4&oh=7e598416431ae99cdd1da4c50ef96cda&oe=60DD459B&_nc_sid=83d603',\n",
       " 'https://instagram.fmaa1-3.fna.fbcdn.net/v/t51.2885-15/e35/174314144_890609051730413_3459841989778278994_n.jpg?tp=1&_nc_ht=instagram.fmaa1-3.fna.fbcdn.net&_nc_cat=105&_nc_ohc=dOk9rqcqBJcAX9sv_uL&edm=AABBvjUBAAAA&ccb=7-4&oh=bfb5b6708c3aaf5a111d2de87e0f8487&oe=60DD296F&_nc_sid=83d603',\n",
       " 'https://instagram.fmaa1-3.fna.fbcdn.net/v/t51.2885-15/e35/173615456_166609625317027_5720163827982277943_n.jpg?tp=1&_nc_ht=instagram.fmaa1-3.fna.fbcdn.net&_nc_cat=107&_nc_ohc=VajHRPEdZsYAX8Rszel&edm=AABBvjUBAAAA&ccb=7-4&oh=30bc0cec29d5c24b5868558e843c101b&oe=60DE341D&_nc_sid=83d603',\n",
       " 'https://instagram.fmaa1-3.fna.fbcdn.net/v/t51.2885-15/e35/171598838_3711115112321107_9144039887493259978_n.jpg?tp=1&_nc_ht=instagram.fmaa1-3.fna.fbcdn.net&_nc_cat=107&_nc_ohc=ph_y7FRWVU8AX89-Wy7&edm=AABBvjUBAAAA&ccb=7-4&oh=827c80b6da25fbf3dd84da0887f40432&oe=60DF0682&_nc_sid=83d603',\n",
       " 'https://instagram.fmaa1-3.fna.fbcdn.net/v/t51.2885-15/e35/171539880_1237795800003473_6024939078825667560_n.jpg?tp=1&_nc_ht=instagram.fmaa1-3.fna.fbcdn.net&_nc_cat=105&_nc_ohc=c_1WixKlaLQAX_ePG2F&tn=npA9gXMlcYVWBfcP&edm=AABBvjUBAAAA&ccb=7-4&oh=04557baf976c242355c78582f1c527ca&oe=60DD79A3&_nc_sid=83d603',\n",
       " 'https://instagram.fmaa1-4.fna.fbcdn.net/v/t51.2885-15/e35/171134582_909158696294025_5279267139999075027_n.jpg?tp=1&_nc_ht=instagram.fmaa1-4.fna.fbcdn.net&_nc_cat=109&_nc_ohc=SyGKKMJb55MAX_JYDYB&edm=AABBvjUBAAAA&ccb=7-4&oh=b4aa076f6632bbc19f3e081be8e2e0a4&oe=60DEF2BA&_nc_sid=83d603',\n",
       " 'https://instagram.fmaa1-4.fna.fbcdn.net/v/t51.2885-15/e35/170304557_477473393391237_1116918589899945601_n.jpg?tp=1&_nc_ht=instagram.fmaa1-4.fna.fbcdn.net&_nc_cat=109&_nc_ohc=HKrbnjh0Q7gAX9gqoek&edm=AABBvjUBAAAA&ccb=7-4&oh=4b23c4a07723255c5eeb5208134e9d31&oe=60DE46DF&_nc_sid=83d603',\n",
       " 'https://instagram.fmaa1-4.fna.fbcdn.net/v/t51.2885-15/e35/169660610_313380050119074_9107164974954309111_n.jpg?tp=1&_nc_ht=instagram.fmaa1-4.fna.fbcdn.net&_nc_cat=106&_nc_ohc=o92sPMaRgRMAX-Jf_pj&edm=AABBvjUBAAAA&ccb=7-4&oh=cef04c23d3e8698038f318c6b1c0b923&oe=60DD13E4&_nc_sid=83d603',\n",
       " 'https://instagram.fmaa1-1.fna.fbcdn.net/v/t51.2885-15/e35/169917527_373707937089202_363439883224188212_n.jpg?tp=1&_nc_ht=instagram.fmaa1-1.fna.fbcdn.net&_nc_cat=110&_nc_ohc=cjcGXLVQgL8AX84n1T6&edm=AABBvjUBAAAA&ccb=7-4&oh=caf6efbcfbb41d96cb4fd9d706a2f752&oe=60DDB960&_nc_sid=83d603',\n",
       " 'https://instagram.fmaa1-4.fna.fbcdn.net/v/t51.2885-15/e35/169221002_758796198361221_5692824489834024280_n.jpg?tp=1&_nc_ht=instagram.fmaa1-4.fna.fbcdn.net&_nc_cat=109&_nc_ohc=-zlZAsDyxsUAX8Llbnk&edm=AABBvjUBAAAA&ccb=7-4&oh=1ce22b1c73bdb18b1ff9590bd6caae7f&oe=60DD9FCF&_nc_sid=83d603',\n",
       " 'https://instagram.fmaa1-3.fna.fbcdn.net/v/t51.2885-15/e35/169095883_490221578683169_3586198395533040502_n.jpg?tp=1&_nc_ht=instagram.fmaa1-3.fna.fbcdn.net&_nc_cat=105&_nc_ohc=oaTqQ_1rElAAX-m-NSB&edm=AABBvjUBAAAA&ccb=7-4&oh=501c9d509fd447f59c248e673ef98736&oe=60DD5916&_nc_sid=83d603',\n",
       " 'https://instagram.fmaa1-1.fna.fbcdn.net/v/t51.2885-15/e35/168723552_4208913945797939_71865647950289329_n.jpg?tp=1&_nc_ht=instagram.fmaa1-1.fna.fbcdn.net&_nc_cat=111&_nc_ohc=mFr2ubG7nQMAX_q93_S&edm=AABBvjUBAAAA&ccb=7-4&oh=0dce95781b0a6022a3ef5f70a6e4ee76&oe=60DDC7FC&_nc_sid=83d603',\n",
       " 'https://instagram.fmaa1-4.fna.fbcdn.net/v/t51.2885-15/e35/168465243_279305753769501_7261372158195418588_n.jpg?tp=1&_nc_ht=instagram.fmaa1-4.fna.fbcdn.net&_nc_cat=109&_nc_ohc=SynknW_fwZQAX_VGdpr&edm=AABBvjUBAAAA&ccb=7-4&oh=f1f09ae3a9f1c308f0a4ef63edcba6fd&oe=60DE0591&_nc_sid=83d603',\n",
       " 'https://instagram.fmaa1-2.fna.fbcdn.net/v/t51.2885-15/e35/168788723_271359057943256_2619104979567805283_n.jpg?tp=1&_nc_ht=instagram.fmaa1-2.fna.fbcdn.net&_nc_cat=108&_nc_ohc=4PHiunjIFyAAX9uoUc4&tn=npA9gXMlcYVWBfcP&edm=AABBvjUBAAAA&ccb=7-4&oh=90404b18f4ff5de474389fe0d2ab3e8d&oe=60DD55E7&_nc_sid=83d603',\n",
       " 'https://instagram.fmaa1-3.fna.fbcdn.net/v/t51.2885-15/e35/167682293_447998133094393_3465427148773075068_n.jpg?tp=1&_nc_ht=instagram.fmaa1-3.fna.fbcdn.net&_nc_cat=101&_nc_ohc=HWrlkZnolo4AX_lryX5&edm=AABBvjUBAAAA&ccb=7-4&oh=0043372155e59f4c551ea6d1b56882f0&oe=60DE82F6&_nc_sid=83d603',\n",
       " 'https://instagram.fmaa1-1.fna.fbcdn.net/v/t51.2885-15/e35/167213675_143681284351834_6542804440546527617_n.jpg?tp=1&_nc_ht=instagram.fmaa1-1.fna.fbcdn.net&_nc_cat=110&_nc_ohc=7dw8TyGVlNoAX8pHkL2&edm=AABBvjUBAAAA&ccb=7-4&oh=d40190971994cc68ee5655f2803d3300&oe=60DE576E&_nc_sid=83d603',\n",
       " 'https://instagram.fmaa1-3.fna.fbcdn.net/v/t51.2885-15/e35/166273261_1167252227019305_4800297328265925008_n.jpg?tp=1&_nc_ht=instagram.fmaa1-3.fna.fbcdn.net&_nc_cat=105&_nc_ohc=AjRYE80-ZS8AX_njO5w&edm=AABBvjUBAAAA&ccb=7-4&oh=fca680dac4bd49ece428ad4494e830ff&oe=60DD7DDB&_nc_sid=83d603',\n",
       " 'https://instagram.fmaa1-1.fna.fbcdn.net/v/t51.2885-15/e35/166453075_185630223193283_4110176624522877784_n.jpg?tp=1&_nc_ht=instagram.fmaa1-1.fna.fbcdn.net&_nc_cat=111&_nc_ohc=AqoujWASuJoAX9J4LQT&edm=AABBvjUBAAAA&ccb=7-4&oh=42b39f5c080af55c1f9d5f5e05e4b355&oe=60DED702&_nc_sid=83d603',\n",
       " 'https://instagram.fmaa1-1.fna.fbcdn.net/v/t51.2885-15/e35/165703053_3989375371121231_826252876061935066_n.jpg?tp=1&_nc_ht=instagram.fmaa1-1.fna.fbcdn.net&_nc_cat=111&_nc_ohc=coKjFRNbgncAX-TGLY4&edm=AABBvjUBAAAA&ccb=7-4&oh=98796e08c3551652b970fe71311f47ab&oe=60DDC0DD&_nc_sid=83d603',\n",
       " 'https://instagram.fmaa1-4.fna.fbcdn.net/v/t51.2885-15/e35/165827387_1096565360852850_7763153822800452492_n.jpg?tp=1&_nc_ht=instagram.fmaa1-4.fna.fbcdn.net&_nc_cat=106&_nc_ohc=s8l29iAOQzEAX-Geram&edm=AABBvjUBAAAA&ccb=7-4&oh=6e6c0389a6f0b0f04e4f23c4574e48be&oe=60DDFDBB&_nc_sid=83d603']"
      ]
     },
     "execution_count": 11,
     "metadata": {},
     "output_type": "execute_result"
    }
   ],
   "source": [
    "images"
   ]
  },
  {
   "cell_type": "code",
   "execution_count": 12,
   "id": "287788e7",
   "metadata": {},
   "outputs": [
    {
     "data": {
      "text/plain": [
       "'C:\\\\Users\\\\kamat\\\\Desktop\\\\jupyter nootbook\\\\Motivational quotes4u'"
      ]
     },
     "execution_count": 12,
     "metadata": {},
     "output_type": "execute_result"
    }
   ],
   "source": [
    "import wget\n",
    "import os\n",
    "\n",
    "try:\n",
    "    path = os.getcwd()\n",
    "    path = os.path.join(path, hashtag)\n",
    "    os.mkdir(path)\n",
    "except:\n",
    "    path = os.getcwd()+'\\\\'+hashtag\n",
    "    \n",
    "\n",
    "    \n",
    "    \n",
    "path"
   ]
  },
  {
   "cell_type": "code",
   "execution_count": 13,
   "id": "8fcaf877",
   "metadata": {},
   "outputs": [
    {
     "name": "stdout",
     "output_type": "stream",
     "text": [
      "100% [..........................................................] 40937 / 40937"
     ]
    }
   ],
   "source": [
    "j=0 \n",
    "for i in images:\n",
    "    save = os.path.join(path, str(j)+'.jpg')\n",
    "    wget.download(i, save)\n",
    "    j = j+1"
   ]
  },
  {
   "cell_type": "code",
   "execution_count": null,
   "id": "4814c1d5",
   "metadata": {},
   "outputs": [],
   "source": [
    "print('completed....')"
   ]
  },
  {
   "cell_type": "code",
   "execution_count": null,
   "id": "3d397f74",
   "metadata": {},
   "outputs": [],
   "source": []
  }
 ],
 "metadata": {
  "kernelspec": {
   "display_name": "Python 3",
   "language": "python",
   "name": "python3"
  },
  "language_info": {
   "codemirror_mode": {
    "name": "ipython",
    "version": 3
   },
   "file_extension": ".py",
   "mimetype": "text/x-python",
   "name": "python",
   "nbconvert_exporter": "python",
   "pygments_lexer": "ipython3",
   "version": "3.7.3"
  }
 },
 "nbformat": 4,
 "nbformat_minor": 5
}
