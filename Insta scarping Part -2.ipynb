{
 "cells": [
  {
   "cell_type": "code",
   "execution_count": 1,
   "id": "20aa542b",
   "metadata": {},
   "outputs": [],
   "source": [
    "from selenium import webdriver as wb\n",
    "from selenium.webdriver.common.keys import Keys\n",
    "from selenium.webdriver.support import expected_conditions as ec\n",
    "from selenium.webdriver.common.by import By\n",
    "from selenium.webdriver.support.wait import WebDriverWait as wd\n",
    "import time"
   ]
  },
  {
   "cell_type": "code",
   "execution_count": 2,
   "id": "65d50abf",
   "metadata": {},
   "outputs": [],
   "source": [
    "driver = wb.Chrome('C:\\\\Users\\\\kamat\\\\Desktop\\\\python projrcts\\\\pythonProject\\\\chromedriver.exe')\n",
    "driver.get('https://www.instagram.com')"
   ]
  },
  {
   "cell_type": "code",
   "execution_count": 3,
   "id": "8f5d28c5",
   "metadata": {
    "scrolled": true
   },
   "outputs": [],
   "source": [
    "uname = wd(driver ,10).until(ec.element_to_be_clickable((By.XPATH, '//*[@id=\"loginForm\"]/div[1]/div[1]/div/label/input')))\n",
    "uname.send_keys('YOUR MAIL ID OR USERNAME')\n",
    "\n",
    "pword = wd(driver, 10).until(ec.element_to_be_clickable((By.XPATH, '//*[@id=\"loginForm\"]/div[1]/div[2]/div/label/input')))\n",
    "pword.send_keys('YOUR PASSWORD')"
   ]
  },
  {
   "cell_type": "code",
   "execution_count": 4,
   "id": "7a0e59e4",
   "metadata": {},
   "outputs": [],
   "source": [
    "login = wd(driver, 10).until(ec.element_to_be_clickable((By.XPATH, '//*[@id=\"loginForm\"]/div[1]/div[3]/button')))\n",
    "login.click()"
   ]
  },
  {
   "cell_type": "code",
   "execution_count": 5,
   "id": "7da07d62",
   "metadata": {},
   "outputs": [],
   "source": [
    "button = wd(driver, 10).until(ec.element_to_be_clickable((By.XPATH, '//*[@id=\"react-root\"]/section/main/div/div/div/div')))\n",
    "button.click()"
   ]
  },
  {
   "cell_type": "code",
   "execution_count": 6,
   "id": "aac5bc23",
   "metadata": {},
   "outputs": [],
   "source": [
    "not_now = wd(driver, 10).until(ec.element_to_be_clickable((By.XPATH, '/html/body/div[4]/div/div/div/div[3]/button[2]')))\n",
    "not_now.click()"
   ]
  },
  {
   "cell_type": "code",
   "execution_count": 16,
   "id": "d580748b",
   "metadata": {},
   "outputs": [],
   "source": [
    "hashtag = '#cats'\n",
    "search = wd(driver, 10).until(ec.element_to_be_clickable((By.CSS_SELECTOR, 'input[placeholder= \"Search\"]')))\n",
    "search.send_keys(hashtag)\n",
    "time.sleep(3)\n",
    "search.send_keys(Keys.ENTER)\n",
    "search.send_keys(Keys.ENTER)"
   ]
  },
  {
   "cell_type": "code",
   "execution_count": 22,
   "id": "92ec9ebc",
   "metadata": {},
   "outputs": [],
   "source": [
    "n = 2\n",
    "for i in range(n):\n",
    "    driver.execute_script('window.scrollTo(0, document.body.scrollHeight);')\n",
    "    time.sleep(5)\n",
    "\n"
   ]
  },
  {
   "cell_type": "code",
   "execution_count": 31,
   "id": "d2d454f8",
   "metadata": {},
   "outputs": [
    {
     "data": {
      "text/plain": [
       "(['https://www.instagram.com/p/CQdiowRDeX7/',\n",
       "  'https://www.instagram.com/p/CQdiSxLJfEQ/',\n",
       "  'https://www.instagram.com/p/CQdwElrJw2L/',\n",
       "  'https://www.instagram.com/p/CQdzGfUJdkl/',\n",
       "  'https://www.instagram.com/p/CQdhc7epa0u/',\n",
       "  'https://www.instagram.com/p/CQdiLLhJ7WO/',\n",
       "  'https://www.instagram.com/p/CQdkq3cHb1r/',\n",
       "  'https://www.instagram.com/p/CQdW0iKs-z2/',\n",
       "  'https://www.instagram.com/p/CQdkHgxJv_n/',\n",
       "  'https://www.instagram.com/p/CQd5XB1nshM/',\n",
       "  'https://www.instagram.com/p/CQd5XlssJt8/',\n",
       "  'https://www.instagram.com/p/CQd5XU5pdXq/',\n",
       "  'https://www.instagram.com/p/CQd5W5zlVTj/',\n",
       "  'https://www.instagram.com/p/CQd5WX_AdHs/',\n",
       "  'https://www.instagram.com/p/CQd5WTtNHxN/',\n",
       "  'https://www.instagram.com/p/CQd5WDoJgfF/',\n",
       "  'https://www.instagram.com/p/CQd5V41FWyy/',\n",
       "  'https://www.instagram.com/p/CQd5VxZN9qg/',\n",
       "  'https://www.instagram.com/p/CQd5VxnL1s9/',\n",
       "  'https://www.instagram.com/p/CQd5Tr_nDMw/',\n",
       "  'https://www.instagram.com/p/CQd5VKPp2Rc/',\n",
       "  'https://www.instagram.com/p/CQd5VDppnyK/',\n",
       "  'https://www.instagram.com/p/CQd5U8qpaaP/',\n",
       "  'https://www.instagram.com/p/CQd5U6Ejh5X/',\n",
       "  'https://www.instagram.com/p/CQd5Utthgcm/',\n",
       "  'https://www.instagram.com/p/CQd5UQJrsrn/',\n",
       "  'https://www.instagram.com/p/CQd5ENFJcJM/',\n",
       "  'https://www.instagram.com/p/CQd5RvcAvfW/',\n",
       "  'https://www.instagram.com/p/CQd5Tzvngrs/',\n",
       "  'https://www.instagram.com/p/CQd5ToFJ-xq/',\n",
       "  'https://www.instagram.com/p/CQd5TUip7NA/',\n",
       "  'https://www.instagram.com/p/CQd5TD5MN90/',\n",
       "  'https://www.instagram.com/p/CQd5CWgFwQj/',\n",
       "  'https://www.instagram.com/p/CQd40x2Jm7m/',\n",
       "  'https://www.instagram.com/p/CQd4OsBDfHr/',\n",
       "  'https://www.instagram.com/p/CQdtO7mnK11/',\n",
       "  'https://www.instagram.com/p/CQdoAfYNRy5/',\n",
       "  'https://www.instagram.com/p/CQQxKgIN6fW/',\n",
       "  'https://www.instagram.com/p/CQLpY76l9v0/',\n",
       "  'https://www.instagram.com/p/CQd5SiSJ-mT/',\n",
       "  'https://www.instagram.com/p/CQd5SaIhy3L/',\n",
       "  'https://www.instagram.com/p/CQd5SKbpJMM/',\n",
       "  'https://www.instagram.com/p/CQd5SHjjakv/',\n",
       "  'https://www.instagram.com/p/CQd5SHNh3A6/',\n",
       "  'https://www.instagram.com/p/CQd5SK_F1lH/',\n",
       "  'https://www.instagram.com/p/CQd5R_Hj089/',\n",
       "  'https://www.instagram.com/p/CQd5RahpyLn/',\n",
       "  'https://www.instagram.com/p/CQd5Q5uhoNz/',\n",
       "  'https://www.instagram.com/p/CQd5QofL4lo/',\n",
       "  'https://www.instagram.com/p/CQd5Qb5g4pB/',\n",
       "  'https://www.instagram.com/p/CQd5QKNheww/',\n",
       "  'https://www.instagram.com/p/CQd5PxBJWBI/',\n",
       "  'https://www.instagram.com/p/CQd5PosJ_5W/',\n",
       "  'https://www.instagram.com/p/CQd5PZvpUHb/',\n",
       "  'https://www.instagram.com/p/CQd5PWbpeC1/',\n",
       "  'https://www.instagram.com/p/CQd5NMnj9Ze/',\n",
       "  'https://www.instagram.com/p/CQd5Hq2A5xy/',\n",
       "  'https://www.instagram.com/p/CQd5OtgrQIc/',\n",
       "  'https://www.instagram.com/p/CQd5OqtnfLO/',\n",
       "  'https://www.instagram.com/p/CQd5OiRL6z0/',\n",
       "  'https://www.instagram.com/p/CQd5OZlpgKG/',\n",
       "  'https://www.instagram.com/p/CQd5N5aLgwL/',\n",
       "  'https://www.instagram.com/p/CQd5LKYpZWi/',\n",
       "  'https://www.instagram.com/p/CQd5Jr6BOcl/',\n",
       "  'https://www.instagram.com/p/CQd5EVQlYCJ/',\n",
       "  'https://www.instagram.com/p/CQd3VMrpy9t/'],\n",
       " 2)"
      ]
     },
     "execution_count": 31,
     "metadata": {},
     "output_type": "execute_result"
    }
   ],
   "source": [
    "links = driver.find_elements_by_tag_name('a')\n",
    "links = [i.get_attribute('href') for i in links]\n",
    "links = [i for i in links if i.startswith('https://www.instagram.com/p/')]\n",
    "links"
   ]
  },
  {
   "cell_type": "code",
   "execution_count": null,
   "id": "d3ba2a41",
   "metadata": {},
   "outputs": [],
   "source": [
    "image = []\n",
    "\n",
    "for i in links:\n",
    "    driver.get(i)\n",
    "    time.sleep(4)\n",
    "    img = i.get_attribute('src')\n",
    "    img = []"
   ]
  }
 ],
 "metadata": {
  "kernelspec": {
   "display_name": "Python 3",
   "language": "python",
   "name": "python3"
  },
  "language_info": {
   "codemirror_mode": {
    "name": "ipython",
    "version": 3
   },
   "file_extension": ".py",
   "mimetype": "text/x-python",
   "name": "python",
   "nbconvert_exporter": "python",
   "pygments_lexer": "ipython3",
   "version": "3.7.3"
  }
 },
 "nbformat": 4,
 "nbformat_minor": 5
}
